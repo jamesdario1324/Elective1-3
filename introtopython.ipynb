{
  "nbformat": 4,
  "nbformat_minor": 0,
  "metadata": {
    "colab": {
      "name": "introtopython.ipynb",
      "provenance": [],
      "collapsed_sections": [],
      "authorship_tag": "ABX9TyNIU3v6PM/yM8PppbQvBa4Y"
    },
    "kernelspec": {
      "name": "python3",
      "display_name": "Python 3"
    },
    "language_info": {
      "name": "python"
    }
  },
  "cells": [
    {
      "cell_type": "markdown",
      "source": [
        ""
      ],
      "metadata": {
        "id": "N7KXZov_zfn9"
      }
    },
    {
      "cell_type": "markdown",
      "source": [
        "##Phyton Indention"
      ],
      "metadata": {
        "id": "FC6Z5soKzhSe"
      }
    },
    {
      "cell_type": "code",
      "source": [
        "if 5<2:\n",
        "  print(\"five is less than two\")\n",
        "else:\n",
        "  print(\"five is greater than two\")\n"
      ],
      "metadata": {
        "id": "h1FliE4_zqJI"
      },
      "execution_count": null,
      "outputs": []
    },
    {
      "cell_type": "markdown",
      "source": [
        "##Python Comments"
      ],
      "metadata": {
        "id": "4pwY95zo1Yyp"
      }
    },
    {
      "cell_type": "code",
      "source": [
        "#this is a program that displays Hello World\n",
        "\n",
        "print(\"Hello World\")\n",
        "print(\"Welcom to Python Programming\")"
      ],
      "metadata": {
        "id": "7vnMRpxU1dIv"
      },
      "execution_count": null,
      "outputs": []
    }
  ]
}